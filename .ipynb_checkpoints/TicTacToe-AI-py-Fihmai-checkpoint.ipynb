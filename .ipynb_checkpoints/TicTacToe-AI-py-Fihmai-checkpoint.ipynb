{
 "cells": [
  {
   "cell_type": "markdown",
   "metadata": {},
   "source": [
    "\n",
    "<img style=\"width: 150px;\" src=\"https://4.bp.blogspot.com/-PrElEPrjiUg/XL2ExrP3MII/AAAAAAAAANE/lNO0pCiHJ70pUg5Bk15g12sz2W_cxT6iACLcBGAs/s1600/dark_full.png\" alt=\"Fihm ai\">"
   ]
  },
  {
   "cell_type": "markdown",
   "metadata": {},
   "source": [
    "<h1 align=\"center\" dir=\"ltr\">برمجة لعبة إكس أوُ بلغة البايثون</h1>"
   ]
  },
  {
   "cell_type": "markdown",
   "metadata": {},
   "source": [
    "<div style=\"dir: rtl; text-align: right\"> \n",
    "في هذا الدرس ستتعلم برمجة الآلة لاستخدام المنطق في لعبة إكس أوُ. سنقوم ببناء البيئة، و الإجراءات الممكن اتخاذها خلال اللعبة، و برمجة المنطق المتبع للفوز في اللعبة. في نهاية الدرس ستكون بنيت بيئة للعب إكس أوُ، و آلة تستعمل المنطق في اللعب ضدك وربما في الفوز عليك\n",
    "</div>"
   ]
  },
  {
   "cell_type": "markdown",
   "metadata": {},
   "source": [
    "<div style=\"dir: rtl; text-align: right\"> \n",
    "\n",
    "<H1  style=\"dir: rtl; text-align: right\"> بناء البيئة </H1>\n",
    "\n",
    "</div>\n",
    "<br>\n",
    "<div style=\"dir: rtl; text-align: right\">    \n",
    "بيئة اللعبة تتكون من المحيط الذي تتجسد فيه جميع التحركات والإجراءات التي يمكن للاعبين اتخاذها. وفي حالة لعبتنا فإن البيئة هي لوح ذو أربع خطوط متقاطعة تكوّن تسعة مساحات ممكن استحواذها من قبل اللاعبين\n",
    "<br>\n",
    "لبرمجة البيئة يمكننا تعريف دالة تستقبل المدخلات الحالية في اللعبة وتطبع حالة اللوح كما هو موضح في الدالة التالية \n",
    "<br>\n",
    "ملاحظة: يمكننا الاستفادة من هذه الدالة في طباعة البيئة في كل مرة يختار فيها أحد اللاعبين موقع الحركة التالية\n",
    "</div>"
   ]
  },
  {
   "cell_type": "code",
   "execution_count": null,
   "metadata": {},
   "outputs": [],
   "source": [
    "def drawBoard(board):\n",
    "\n",
    "# تستقبل الدالة تحركات اللاعبين كقائمة وتقوم بطباعتها على شكل لوح لعبة إكس أوُ\n",
    "# يتم تخزين التحركات في القائمة بدأً من الخانة 1 وليس 0 لسهولة استرجاع البيانات\n",
    "# في كل خانة في القائمة المستلمة يمكن أن نجد قيمة إكس أو قيمة أوُ أو خانة خالية\n",
    "\n",
    "    print('   |   |')\n",
    "    print(' ' + board[7] + ' | ' + board[8] + ' | ' + board[9])\n",
    "    print('   |   |')\n",
    "    print('-----------')\n",
    "    print('   |   |')\n",
    "    print(' ' + board[4] + ' | ' + board[5] + ' | ' + board[6])\n",
    "    print('   |   |')\n",
    "    print('-----------')\n",
    "    print('   |   |')\n",
    "    print(' ' + board[1] + ' | ' + board[2] + ' | ' + board[3])\n",
    "    print('   |   |')"
   ]
  },
  {
   "cell_type": "markdown",
   "metadata": {},
   "source": [
    "<div style=\"dir: rtl; text-align: right\"> \n",
    "\n",
    "<H1  style=\"dir: rtl; text-align: right\"> برمجة أساسيات مسار اللعبة</h1>\n",
    "\n",
    "</div>\n",
    "<br>\n",
    "<div style=\"dir: rtl; text-align: right\"> \n",
    "الخطوة التالية هي فهم مسار اللعبة وبرمجة الخطوات التي تمر بها بدأً من تخيير اللاعب بين الحرفين إكس و أوُ\n",
    "<br>\n",
    "في الدالة التالية يقوم اللاعب بادخال الحرف لبدء اللعب\n",
    "يتم استرجاع قائمة بالحرفين مع ملاحظة ترتيب حرف اللاعب أولاً متبعاً بحرف الآلة\n",
    "</div>"
   ]
  },
  {
   "cell_type": "code",
   "execution_count": null,
   "metadata": {},
   "outputs": [],
   "source": [
    "def inputPlayerLetter():\n",
    "\n",
    "# X or O تمكّن اللاعب من اختيار الحرف المرغوب\n",
    "# تقوم الدالة بتمرير قيمتين بحيث يتغير الترتيب بناءً على اختيار اللاعب. إذا اختار اللاعب حرف إكس يكون الأول في القائمة وهكذا\n",
    "    letter = ''\n",
    "    while not (letter == 'X' or letter == 'O'):\n",
    "        print('Do you want to be X or O?')\n",
    "        letter = input().upper()\n",
    "\n",
    "    # القيمة الآولى حرف اللاعب والقيمة الثانية حرف الآلة\n",
    "    if letter == 'X':\n",
    "        return ['X', 'O']\n",
    "    else:\n",
    "        return ['O', 'X']\n",
    "\n"
   ]
  },
  {
   "cell_type": "markdown",
   "metadata": {},
   "source": [
    "<div style=\"dir: rtl; text-align: right\"> \n",
    "\n",
    "<H1  style=\"dir: rtl; text-align: right\"> من يلعب أولاً؟</H1>\n",
    "</div>\n",
    "<br>\n",
    "<div style=\"dir: rtl; text-align: right\"> \n",
    "في لعبة إكس أوُ نلاحظ أن الأفضلية عادة لمن يلعب أولاً، فاحتمال فوز اللاعب ترتفع بشكل ملحوظ إذا كان الدور الأول من نصيبه. لضمان العدل في اللعبة نقوم ببرمجة دالة لاختيار من يبدأ أولاً بطريقة عشوائية كالتالي\n",
    "</div>"
   ]
  },
  {
   "cell_type": "code",
   "execution_count": null,
   "metadata": {},
   "outputs": [],
   "source": [
    "import random\n",
    "\n",
    "def whoGoesFirst():\n",
    "\n",
    "# Random يتم اختيار صاحب الدور الأول عشوائياً عن طريق تطويع الدال الرياضية \n",
    "\n",
    "    if random.randint(0, 1) == 0:\n",
    "        return 'computer'\n",
    "    else:\n",
    "        return 'player'"
   ]
  },
  {
   "cell_type": "markdown",
   "metadata": {},
   "source": [
    "<div style=\"dir: rtl; text-align: right\"> \n",
    "\n",
    "<H1  style=\"dir: rtl; text-align: right\"> الاستمرار في اللعب</h1>\n",
    "</div>\n",
    "<br>\n",
    "<div style=\"dir: rtl; text-align: right\"> \n",
    "كخاصية إضافية يمكن سؤال اللاعب عن رغبته في بدء لوحة جديدة بعد إنتهاء اللعبة. يمكننا كتابة الدالة كالتالي واستدعائها بعد تحديد الفائز في اللعبة السابقة\n",
    "</div>"
   ]
  },
  {
   "cell_type": "code",
   "execution_count": 4,
   "metadata": {},
   "outputs": [],
   "source": [
    "def playAgain():\n",
    "\n",
    "# تقوم هذه الدالة بتمرير قيمة منطقية (صائب أو خطأ) بناءً على اختيار اللاعب في بدء جولة جديدة\n",
    "\n",
    "    print('Do you want to play again? (yes or no)')\n",
    "    return input().lower().startswith('y')"
   ]
  },
  {
   "cell_type": "markdown",
   "metadata": {},
   "source": [
    "<div style=\"dir: rtl; text-align: right\"> \n",
    "\n",
    "<H1  style=\"dir: rtl; text-align: right\"> اتخاذ التحركات</h1>\n",
    "</div>\n",
    "<br>\n",
    "<div style=\"dir: rtl; text-align: right\"> \n",
    "    للاحتفاظ بتحركات اللاعبين نقوم باستخدام قائمة تتكون من 10 خانات ونتجاهل القائمة ذات المؤشر 0 لتسهيل الرجوع للتحركات. بالتالي يتبقى 9 خانات يمكننا ربطها بموقع تحركات اللاعبين على اللوح وتسجيل الحرف في الخانة المناسبة\n",
    "    <br>\n",
    "متى ما اختار اللاعب موقع الحركة التالية، نقوم باستدعاء الدالة التالية حيث يتم تعيين حرف اللاعب في موقع الحركة على قائمة اللعبة المذكورة سابقاّ في دالة بناء البيئة. حيث أن تلك القائمة هي ذاتها المستخدمة في رسم لوحة اللعب \n",
    "</div>"
   ]
  },
  {
   "cell_type": "code",
   "execution_count": 5,
   "metadata": {},
   "outputs": [],
   "source": [
    "def makeMove(board, letter, move):\n",
    "\n",
    "    board[move] = letter\n"
   ]
  },
  {
   "cell_type": "markdown",
   "metadata": {},
   "source": [
    "<div style=\"dir: rtl; text-align: right\"> \n",
    "\n",
    "<H1  style=\"dir: rtl; text-align: right\"> من الفائز؟</h1>\n",
    "</div>\n",
    "<br>\n",
    "<div style=\"dir: rtl; text-align: right\">\n",
    "حالات الفوز في لعبة إكس أوُ محدودة جداً بسبب بساطة لوحة اللعب. إما أن تفوز بتكوين صف - ثلاثة احتمالات - أو تكوين عمود -ثلاثة احتمالات أخرى- أو بشكل قطري -احتمالين فقط- بالتالي يمكن الفوز بثمانية حالات لا تاسع لها \n",
    "بتخصيص رقم لكل خانة على اللوح من 1 إلى 9 فإنه يمكننا التأكد من وجود فائز عن طريق التحقق من الآحرف الموجودة في كل ثلاثة خانات متجاورة. يمكن كتابة الشرط كما هو موضح في الدالة التالية حيث أن كل سطر يمثل حالة من حالات الفوز الثمانية. الحالة في السطر الأول تمثل وضح الحرف نفسه في الثلاثة الخانات العليا على اللوح... وهكذا\n",
    "</div>"
   ]
  },
  {
   "cell_type": "code",
   "execution_count": 6,
   "metadata": {},
   "outputs": [],
   "source": [
    "def isWinner(bo, le):\n",
    "\n",
    "# يتم تمرير محتويات اللوح الحالية والحرف المنتمي للاعب إلى الدالة\n",
    "# كل سطر يتحقق من أحد حالات الفوز الثمانية والشرط هو تحقيق أحد تلك الحالات لتمرير قيمة (صائب\n",
    "\n",
    "    return ((bo[7] == le and bo[8] == le and bo[9] == le) or # across the top\n",
    "            (bo[4] == le and bo[5] == le and bo[6] == le) or # across the middle\n",
    "            (bo[1] == le and bo[2] == le and bo[3] == le) or # across the bottom\n",
    "            (bo[7] == le and bo[4] == le and bo[1] == le) or # down the left side\n",
    "            (bo[8] == le and bo[5] == le and bo[2] == le) or # down the middle\n",
    "            (bo[9] == le and bo[6] == le and bo[3] == le) or # down the right side\n",
    "            (bo[7] == le and bo[5] == le and bo[3] == le) or # diagonal\n",
    "            (bo[9] == le and bo[5] == le and bo[1] == le)) # diagonal\n"
   ]
  },
  {
   "cell_type": "markdown",
   "metadata": {},
   "source": [
    "<div style=\"dir: rtl; text-align: right\"> \n",
    "\n",
    "<H1  style=\"dir: rtl; text-align: right\"> التحقق من صلاحية الحركة</h1>\n",
    "\n",
    "</div>\n",
    "<br>\n",
    "<div style=\"dir: rtl; text-align: right\">\n",
    "عند اختيار اللاعب -أو الآلة- لأي خانة على اللوح للعب فإننا بحاجة للتأكد من أن الخانة خاوية ويمكن تعيين الحرف فيها. بدلاً من برمجة خطوة التحقق في كود استراتيجية اللعب، نقوم بفصل التحقق كدالة مستقلة كالتالي\n",
    "</div>"
   ]
  },
  {
   "cell_type": "code",
   "execution_count": null,
   "metadata": {},
   "outputs": [],
   "source": [
    "def isSpaceFree(board, move):\n",
    "\n",
    "# تقوم الدالة بتمرير القيمة المنطقية (صائب) في حال كانت الخانة المطلوبة شاغرة\n",
    "\n",
    "    return board[move] == ' '\n"
   ]
  },
  {
   "cell_type": "markdown",
   "metadata": {},
   "source": [
    "<div style=\"dir: rtl; text-align: right\"> \n",
    "\n",
    "<H1  style=\"dir: rtl; text-align: right\"> سؤال اللاعب عن حركته التالية على اللوح</h1>\n",
    "</div>\n",
    "<br>\n",
    "<div style=\"dir: rtl; text-align: right\">\n",
    "نحتاج بناء دالة لسؤال اللاعب عن تحركاته والخانة التي يريد اللعب اختيارها. يمكننا ذلك عن طريق دالة المدخلات كما هو ظاهر في الدالة التالي. بالإضافة للحصول على رقم الخانة فإننا نتحقق من صلاحية المدخل عن طريق مقارنته بالمدخلات المقبولة -من 1 إلى 9- مع الأخذ في عين الاعتبار كون الخانة خالية. إن لم تكن القيمة المدخلة من قبل اللاعب ضمن الأرقام من 1 إلى 9 أو كانت الخانة قد تم اختيارها مسبقاً فإننا نسأل اللاعب مرة أخرى عن حركته التالية\n",
    "</div>"
   ]
  },
  {
   "cell_type": "code",
   "execution_count": 9,
   "metadata": {},
   "outputs": [],
   "source": [
    "def getPlayerMove(board):\n",
    "\n",
    "    move = ' '\n",
    "    # لطالما أن المستخدم لم يقم بادخال قيمة تستوفي الشروط، يستمر البرنامج في السؤال عن الحركة التالية\n",
    "    # الشروط هي:\n",
    "    # 1. يجب أن تكون القيمة المدخلة أحد قيم خانات اللوح من 1 إلى 9\n",
    "    # 2. يجب أن تكون الخانة شاغرة\n",
    "    while move not in '1 2 3 4 5 6 7 8 9'.split() or not isSpaceFree(board, int(move)):\n",
    "        print('What is your next move? (1-9)')\n",
    "        move = input()\n",
    "    # في حال قام المستخدم بادخال قيمة صالحة تقوم الدالة بتمرير القيمة\n",
    "    return int(move)\n"
   ]
  },
  {
   "cell_type": "markdown",
   "metadata": {},
   "source": [
    "<div style=\"dir: rtl; text-align: right\"> \n",
    "\n",
    "<H1  style=\"dir: rtl; text-align: right\"> ...ذكاء اصطناعي بدائي\n",
    "</h1></div>\n",
    "<br>\n",
    "<div style=\"dir: rtl; text-align: right\">\n",
    "نصل هنا للجزئية التي تهم الكثيرين وهي جزئية بناء الذكاء الاصطناعي وبرمجة منطق الآلة في لعب مباراة ضد ذكاء بشري. وجب التنويه هنا أنه وللتبسيط فإن المنطق المبرمج في الدالة التالية لا يتعلم من اخطائه السابقة ولا يتحسن مع مرور الوقت! الذكاء الاصطناعي المبني في هذا الدرس بدائي ويعتمد كلياً على المنطق واستراتيجيات اللعب وتعود بدائيته أولاً وأخيراً لسهول اللعبة التي نقوم ببرمجتها وإمكانية تطوير ذكاء اصطناعي بدائي يستطيع الفوز على اللاعب بدون تقنيات متقدمة وتعلم تعزيزي مستمر\n",
    "    <br><br>\n",
    "تحتوي الدالة التالية على منطق الآلة في اختيار الحركة التالية مع التركيز على الهدف المبدئي وهو منع اللاعب الآخر من الفوز والهدف النهائي والأهم وهو تحقيق الفوز على اللاعب المنافس. يتكون المنطق من الخطوات التالية\n",
    "    <br>\n",
    "    <div class=\"alert alert-block alert-info\" style=\"margin-top: 20px; dir: rtl; text-align: left\">\n",
    "    <ol>\n",
    "        <li>تتحقق الآلة من جميع الخانات وما إذا كان اختيار أي خانة يؤدي إلى الفوز المباشر</li>\n",
    "        <li>في حال عدم وجود خانة تؤدي إلى فوز الآلة، تقوم الآلة بالبحث عن خانة تؤدي إلى فوز الخصم مباشرة</li>\n",
    "        <li>أحد الاستراتيجيات الأساسية والمضمونة في لعب إكس أوُ هي اللعب في الآركان، وفي هذه الخطوة تقوم الآلة باختيار ركن عشوائي واللعب</li>\n",
    "        <li>في حال كانت جميع الآركان محتلة فإن الآلة تحاول احتلال الخانة في المنتصف</li>\n",
    "        <li>في حال لم تكن خانة المنتصف شاغرة فإن الآلة تختار عشوائياً أحد الخانات المتبقية في الأطراف</li>\n",
    "    </ol>\n",
    "</div>\n",
    "<br>\n",
    "ملاحظة مهمة: الخطوات غير متسلسلة بمعنى أن الآلة لا تنتقل للخطوة التالية إلا إذا لم تتمكن من تحقيق متطلبات الخطوة السابقة \n",
    "<br>    \n",
    "قمت بترقيم الكود في الدالة التالية لتوضيح الكود المعني بكل خطوة من خطوات المنطق المذكورة في الأعلى\n",
    "</div>"
   ]
  },
  {
   "cell_type": "code",
   "execution_count": 11,
   "metadata": {},
   "outputs": [],
   "source": [
    "def getComputerMove(board, computerLetter):\n",
    "\n",
    "    # بناءً على حرف الآلة الذي تستلمه الدالة فإنها تقوم بتعريف متغير لحرف اللاعب كالتالي\n",
    "    if computerLetter == 'X':\n",
    "        playerLetter = 'O'\n",
    "    else:\n",
    "        playerLetter = 'X'\n",
    "        \n",
    "    # Tic Tac Toe AI خوارزمية الذكاء الاصطناعي :\n",
    "    # أولاً تتحق الآلة من إمكانية الفوز في حركة واحدة وتحتل الخانة اللازمة للفوز\n",
    "    #----------------------(1)-----------------------------\n",
    "    for i in range(1, 10):\n",
    "        copy = getBoardCopy(board)\n",
    "        if isSpaceFree(copy, i):\n",
    "            makeMove(copy, computerLetter, i)\n",
    "            if isWinner(copy, computerLetter):\n",
    "                return i\n",
    "    #----------------------(1)-----------------------------\n",
    "\n",
    "    # تتحقق الآلة من إمكانية اللاعب من الفوز في حركة واحدة ومنعه عن طريق احتلال الخانة\n",
    "    #----------------------(2)-----------------------------\n",
    "    for i in range(1, 10):\n",
    "        copy = getBoardCopy(board)\n",
    "        if isSpaceFree(copy, i):\n",
    "            makeMove(copy, playerLetter, i)\n",
    "            if isWinner(copy, playerLetter):\n",
    "                return i\n",
    "    #----------------------(2)-----------------------------\n",
    "\n",
    "\n",
    "    # تحاول الآلة احتلال أحد الأركان في حال كان شاغر\n",
    "    #----------------------(3)-----------------------------\n",
    "    move = chooseRandomMoveFromList(board, [1, 3, 7, 9])\n",
    "    if move != None:\n",
    "        return move\n",
    "    #----------------------(3)-----------------------------\n",
    "\n",
    "\n",
    "    # تحاول الآلة احتلات خانة المنتصف في حال لازالت شاغرة\n",
    "    #----------------------(4)-----------------------------\n",
    "    if isSpaceFree(board, 5):\n",
    "        return 5\n",
    "    #----------------------(4)-----------------------------\n",
    "\n",
    "\n",
    "    # في محاولة أخيرة تقوم الآلة باختيار خانة عشوائية من الخانات المتبقية\n",
    "    #----------------------(5)-----------------------------\n",
    "    return chooseRandomMoveFromList(board, [2, 4, 6, 8])\n",
    "    #----------------------(5)-----------------------------\n",
    "\n"
   ]
  },
  {
   "cell_type": "markdown",
   "metadata": {},
   "source": [
    "<div style=\"dir: rtl; text-align: right\"> \n",
    "\n",
    "<H1  style=\"dir: rtl; text-align: right\"> اختيار خانة عشوائية من قائمة تم تمريرها</h1>\n",
    "</div>\n",
    "<br>\n",
    "<div style=\"dir: rtl; text-align: right\">\n",
    "    نلاحظ في الدالة السابقة استخدام دالة خاصة في الخطوتين الرابعة والخامسة لاختيار خانة عشوائية مع توفير قائمة لاختيار أحد قيمها بطريقة عشوائية. في الدالة التالية نقوم بتطبيق هذا المفهوم عن طريق التحقق أولاً من صلاحية اللعب في خانات تلك القائمة ثم اختيار احد الخانات عشوائياً وإعادتها للدالة السابقة. في حال كانت جميع التحركات في خانات القائمة المرسلة غير ممكنة فإن الدالة تعيد القيمة الخالية \n",
    "</div>"
   ]
  },
  {
   "cell_type": "code",
   "execution_count": 10,
   "metadata": {},
   "outputs": [],
   "source": [
    "def chooseRandomMoveFromList(board, movesList):\n",
    "\n",
    "    possibleMoves = []\n",
    "    for i in movesList:\n",
    "        if isSpaceFree(board, i):\n",
    "            possibleMoves.append(i)\n",
    "            \n",
    "    if len(possibleMoves) != 0:\n",
    "        return random.choice(possibleMoves)\n",
    "    else:\n",
    "        return None\n"
   ]
  },
  {
   "cell_type": "markdown",
   "metadata": {},
   "source": [
    "<div style=\"dir: rtl; text-align: right\"> \n",
    "\n",
    "<H1  style=\"dir: rtl; text-align: right\"> دوال إضافية مساعدة</h1>\n",
    "</div>\n",
    "<br>\n",
    "<div style=\"dir: rtl; text-align: right\">\n",
    "الدالتين التالية دوال مساعدة في تنظيم الكود واستخراج العمليات المتكررة في دالة مستقلة\n",
    "<br>\n",
    "الدالة الآولى تستلم قائمة الخانات على اللوح وتقوم بتمرير نسخة من تلك القائمة. والدالة الثانية تتحقق من أن اللوح مازال صالح للعب وتستخدم للتحقق من انتهاء اللعبة أو إتاحة لعب دور إضافي\n",
    "</div>"
   ]
  },
  {
   "cell_type": "code",
   "execution_count": 7,
   "metadata": {},
   "outputs": [],
   "source": [
    "def getBoardCopy(board):\n",
    "\n",
    "    dupeBoard = []\n",
    "    for i in board:\n",
    "        dupeBoard.append(i)\n",
    "    return dupeBoard\n"
   ]
  },
  {
   "cell_type": "code",
   "execution_count": 12,
   "metadata": {},
   "outputs": [],
   "source": [
    "def isBoardFull(board):\n",
    "\n",
    "    for i in range(1, 10):\n",
    "        if isSpaceFree(board, i):\n",
    "            return False\n",
    "    return True\n"
   ]
  },
  {
   "cell_type": "markdown",
   "metadata": {},
   "source": [
    "<div style=\"dir: rtl; text-align: right\"> \n",
    "\n",
    "<H1  style=\"dir: rtl; text-align: right\"> مسار اللعب</h1>\n",
    "</div>\n",
    "<br>\n",
    "<div style=\"dir: rtl; text-align: right\">\n",
    "    بعد بناء البيئة وتحديد أساسيات اللعبة وتوضيح منطق اللعبة وإجراءاتها للآلة يأتي وقت بدء اللعب، البشر ضد الآلة\n",
    "    <br>\n",
    "    في هذه المرحلة يصعب شرح الكود التالي بدون الإشارة للأسطر لذلك سأقوم بشرح الكود عن طريق التعليق خلال الأسطر\n",
    "</div>"
   ]
  },
  {
   "cell_type": "code",
   "execution_count": null,
   "metadata": {
    "scrolled": false
   },
   "outputs": [
    {
     "name": "stdout",
     "output_type": "stream",
     "text": [
      "Welcome to Tic Tac Toe!\n",
      "Do you want to be X or O?\n",
      "X\n",
      "The computer will go first.\n",
      "   |   |\n",
      "   |   | O\n",
      "   |   |\n",
      "-----------\n",
      "   |   |\n",
      "   |   |  \n",
      "   |   |\n",
      "-----------\n",
      "   |   |\n",
      "   |   |  \n",
      "   |   |\n",
      "What is your next move? (1-9)\n",
      "1\n",
      "   |   |\n",
      "   |   | O\n",
      "   |   |\n",
      "-----------\n",
      "   |   |\n",
      "   |   |  \n",
      "   |   |\n",
      "-----------\n",
      "   |   |\n",
      " X |   | O\n",
      "   |   |\n",
      "What is your next move? (1-9)\n",
      "6\n",
      "   |   |\n",
      " O |   | O\n",
      "   |   |\n",
      "-----------\n",
      "   |   |\n",
      "   |   | X\n",
      "   |   |\n",
      "-----------\n",
      "   |   |\n",
      " X |   | O\n",
      "   |   |\n",
      "What is your next move? (1-9)\n",
      "8\n",
      "   |   |\n",
      " O | X | O\n",
      "   |   |\n",
      "-----------\n",
      "   |   |\n",
      "   | O | X\n",
      "   |   |\n",
      "-----------\n",
      "   |   |\n",
      " X |   | O\n",
      "   |   |\n",
      "The computer has beaten you! You lose.\n",
      "Do you want to play again? (yes or no)\n"
     ]
    }
   ],
   "source": [
    "# Play XO\n",
    "#الترحيب باللاعب قبل بدأ الجولة\n",
    "print('Welcome to XO!')\n",
    "\n",
    "#while loopتبدأ الجولة هنا وتنتهي متى ما اختار اللاعب إنهاء الجولات عن طريق الخروج المباشر من ال\n",
    "while True:\n",
    "    # نقوم في بداية كل جولة بمسح التحركات من على اللوح وتعيين قيمة مسافة خالية لكل خانة\n",
    "    # نعين عشر خانات للقائمة ونتجاهل الخانة ذات المؤشر 0 بحيث تمثل كل خانة من التسع الباقية خانات اللوح\n",
    "    \n",
    "    #    7 | 8 | 9\n",
    "    #   ---+---+---\n",
    "    #    4 | 5 | 6\n",
    "    #   ---+---+---\n",
    "    #    1 | 2 | 3\n",
    "    \n",
    "    theBoard = [' '] * 10\n",
    "    \n",
    "    # عند استدعاء دالة ادخال اللاعب للحرف المرغوب فإن الدالة تمرر قيمتين: حرف اللاعب وحرف الآلة\n",
    "    playerLetter, computerLetter = inputPlayerLetter()\n",
    "    # يتم اختيار صاحب الدور الأول عشوائياً\n",
    "    turn = whoGoesFirst()\n",
    "    print('The ' + turn + ' will go first.')\n",
    "    gameIsPlaying = True\n",
    "    \n",
    "    # لطالما أن الجولة قائمة ولم تنتهي بالتعادل أو فوز أحد اللاعبين\n",
    "    while gameIsPlaying:\n",
    "        if turn == 'player':\n",
    "        # في حال بدء دور اللاعب\n",
    "            # يتم رسم اللوح\n",
    "            drawBoard(theBoard)\n",
    "            # يُسأل اللاعب عن الخانة المراد احتلالها\n",
    "            move = getPlayerMove(theBoard)\n",
    "            # يتم تخزين حركة اللاعب على اللوح\n",
    "            makeMove(theBoard, playerLetter, move)\n",
    "            \n",
    "            # نتحقق مما إذا فاز اللاعب\n",
    "            if isWinner(theBoard, playerLetter):\n",
    "                # يتم رسم اللوح وإعلام اللاعب بفوزه وإنهاء الجولة الحالية\n",
    "                drawBoard(theBoard)\n",
    "                print('Hooray! You have won the game!')\n",
    "                gameIsPlaying = False\n",
    "            else:\n",
    "                # إذا تأكدنا من عدم فوز اللاعب يأتي دور التحقق من التعادل في حال كان اكتمال اللوح\n",
    "                if isBoardFull(theBoard):\n",
    "                    drawBoard(theBoard)\n",
    "                    print('The game is a tie!')\n",
    "                    break\n",
    "                else:\n",
    "                    # ما لم يفز اللاعب ولم يتحقق التعادل بعد، ينتقل الدور إلى الآلة\n",
    "                    turn = 'computer'\n",
    "        \n",
    "        else:\n",
    "        # في حال بدء دور الآلة\n",
    "            # نستدعي منطق الآلة مع تمرير اللوح الحالي ونستلم الحركة التي اختارتها الآلة بناءً على المنطق المذكور سابقاً\n",
    "            move = getComputerMove(theBoard, computerLetter)\n",
    "            # نقوم بتخزين حركة الآلة على اللوح\n",
    "            makeMove(theBoard, computerLetter, move)\n",
    "            \n",
    "            # نتحقق مما إذا فاز اللاعب  \n",
    "            if isWinner(theBoard, computerLetter):\n",
    "                # يتم رسم اللوح وإعلام اللاعب بخسارته وإنهاء الجولة الحالية\n",
    "                drawBoard(theBoard)\n",
    "                print('The computer has beaten you! You lose.')\n",
    "                gameIsPlaying = False\n",
    "            else:\n",
    "                # إذا تأكدنا من عدم فوز الآلة يأتي دور التحقق من التعادل في حال اكتمال اللوح\n",
    "                if isBoardFull(theBoard):\n",
    "                    drawBoard(theBoard)\n",
    "                    print('The game is a tie!')\n",
    "                    break\n",
    "                else:\n",
    "                    # ما لم يخسر اللاعب ولم يتحقق التعادل، ينتقل الدور إلى اللاعب\n",
    "                    turn = 'player'\n",
    "                    \n",
    "    # في حالة إنتهاء الجولة يتم سؤال اللاعب عما إذا كان يريد بدء جولة جديدة\n",
    "    # في حالة الرفض يتم إنهاء اللعبة\n",
    "    if not playAgain():\n",
    "        break\n"
   ]
  }
 ],
 "metadata": {
  "kernelspec": {
   "display_name": "Python 3",
   "language": "python",
   "name": "python3"
  },
  "language_info": {
   "codemirror_mode": {
    "name": "ipython",
    "version": 3
   },
   "file_extension": ".py",
   "mimetype": "text/x-python",
   "name": "python",
   "nbconvert_exporter": "python",
   "pygments_lexer": "ipython3",
   "version": "3.7.1"
  }
 },
 "nbformat": 4,
 "nbformat_minor": 2
}
